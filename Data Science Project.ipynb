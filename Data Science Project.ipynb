{
  "nbformat": 4,
  "nbformat_minor": 0,
  "metadata": {
    "colab": {
      "name": "Kaggle Project.ipynb",
      "provenance": [],
      "collapsed_sections": []
    },
    "kernelspec": {
      "name": "python3",
      "display_name": "Python 3"
    },
    "language_info": {
      "name": "python"
    },
    "accelerator": "GPU"
  },
  "cells": [
    {
      "cell_type": "code",
      "metadata": {
        "id": "n_qNGbR5Rvlh"
      },
      "source": [
        "import pandas as pd\n",
        "from sklearn.naive_bayes import MultinomialNB\n",
        "from sklearn.feature_extraction.text import TfidfVectorizer"
      ],
      "execution_count": 1,
      "outputs": []
    },
    {
      "cell_type": "code",
      "metadata": {
        "id": "jR7dmnNRSCcG"
      },
      "source": [
        ""
      ],
      "execution_count": null,
      "outputs": []
    },
    {
      "cell_type": "code",
      "metadata": {
        "id": "xi8ixmCVWEYB"
      },
      "source": [
        "train_data = pd.read_csv(\"/train.csv\")\n",
        "test_data = pd.read_csv(\"/test.csv\")\n",
        "test_label = pd.read_csv(\"/test_labels.csv\").replace(-1,0)\n"
      ],
      "execution_count": 2,
      "outputs": []
    },
    {
      "cell_type": "code",
      "metadata": {
        "colab": {
          "base_uri": "https://localhost:8080/",
          "height": 398
        },
        "id": "s9ZTKjtvWGMN",
        "outputId": "8764d2d1-1db3-47f6-df43-b0d5ea02d2dd"
      },
      "source": [
        "test_data = pd.merge(test_data, test_label, how = 'left', on = 'id')\n",
        "total_data = pd.concat([train_data, test_data])\n",
        "total_data.sample(10)"
      ],
      "execution_count": 3,
      "outputs": [
        {
          "output_type": "execute_result",
          "data": {
            "text/html": [
              "<div>\n",
              "<style scoped>\n",
              "    .dataframe tbody tr th:only-of-type {\n",
              "        vertical-align: middle;\n",
              "    }\n",
              "\n",
              "    .dataframe tbody tr th {\n",
              "        vertical-align: top;\n",
              "    }\n",
              "\n",
              "    .dataframe thead th {\n",
              "        text-align: right;\n",
              "    }\n",
              "</style>\n",
              "<table border=\"1\" class=\"dataframe\">\n",
              "  <thead>\n",
              "    <tr style=\"text-align: right;\">\n",
              "      <th></th>\n",
              "      <th>id</th>\n",
              "      <th>comment_text</th>\n",
              "      <th>toxic</th>\n",
              "      <th>severe_toxic</th>\n",
              "      <th>obscene</th>\n",
              "      <th>threat</th>\n",
              "      <th>insult</th>\n",
              "      <th>identity_hate</th>\n",
              "    </tr>\n",
              "  </thead>\n",
              "  <tbody>\n",
              "    <tr>\n",
              "      <th>48876</th>\n",
              "      <td>82ad6839c662694d</td>\n",
              "      <td>\"\\n\\nOrphaned fair use image (:Image:Kivul.JPE...</td>\n",
              "      <td>0</td>\n",
              "      <td>0</td>\n",
              "      <td>0</td>\n",
              "      <td>0</td>\n",
              "      <td>0</td>\n",
              "      <td>0</td>\n",
              "    </tr>\n",
              "    <tr>\n",
              "      <th>70098</th>\n",
              "      <td>74b1778abc2c9f0b</td>\n",
              "      <td>\"You mean got her hands dirty \"\"fucking\"\" for ...</td>\n",
              "      <td>0</td>\n",
              "      <td>0</td>\n",
              "      <td>0</td>\n",
              "      <td>0</td>\n",
              "      <td>0</td>\n",
              "      <td>0</td>\n",
              "    </tr>\n",
              "    <tr>\n",
              "      <th>72477</th>\n",
              "      <td>c1f3f92a76f424a2</td>\n",
              "      <td>Well, I guess I was a bit unprepared for the a...</td>\n",
              "      <td>0</td>\n",
              "      <td>0</td>\n",
              "      <td>0</td>\n",
              "      <td>0</td>\n",
              "      <td>0</td>\n",
              "      <td>0</td>\n",
              "    </tr>\n",
              "    <tr>\n",
              "      <th>10365</th>\n",
              "      <td>1155e98431c2cf26</td>\n",
              "      <td>Anyway, I didn't mean it in a bad way, OK?!</td>\n",
              "      <td>0</td>\n",
              "      <td>0</td>\n",
              "      <td>0</td>\n",
              "      <td>0</td>\n",
              "      <td>0</td>\n",
              "      <td>0</td>\n",
              "    </tr>\n",
              "    <tr>\n",
              "      <th>112816</th>\n",
              "      <td>5b828e9258a3098c</td>\n",
              "      <td>.  If no reliable text can be found, an image ...</td>\n",
              "      <td>0</td>\n",
              "      <td>0</td>\n",
              "      <td>0</td>\n",
              "      <td>0</td>\n",
              "      <td>0</td>\n",
              "      <td>0</td>\n",
              "    </tr>\n",
              "    <tr>\n",
              "      <th>22086</th>\n",
              "      <td>24de676691e004e3</td>\n",
              "      <td>Casey needs to have her own page</td>\n",
              "      <td>0</td>\n",
              "      <td>0</td>\n",
              "      <td>0</td>\n",
              "      <td>0</td>\n",
              "      <td>0</td>\n",
              "      <td>0</td>\n",
              "    </tr>\n",
              "    <tr>\n",
              "      <th>147153</th>\n",
              "      <td>f5fde486a4278e16</td>\n",
              "      <td>Why Are you such a Fag \\n\\n Your life consists...</td>\n",
              "      <td>0</td>\n",
              "      <td>0</td>\n",
              "      <td>0</td>\n",
              "      <td>0</td>\n",
              "      <td>0</td>\n",
              "      <td>0</td>\n",
              "    </tr>\n",
              "    <tr>\n",
              "      <th>146482</th>\n",
              "      <td>2cc228a2e4d67134</td>\n",
              "      <td>I'm posting on your talk page</td>\n",
              "      <td>0</td>\n",
              "      <td>0</td>\n",
              "      <td>0</td>\n",
              "      <td>0</td>\n",
              "      <td>0</td>\n",
              "      <td>0</td>\n",
              "    </tr>\n",
              "    <tr>\n",
              "      <th>47741</th>\n",
              "      <td>4f385c51d9293855</td>\n",
              "      <td>Any ideas to why eminems new album the re-up a...</td>\n",
              "      <td>0</td>\n",
              "      <td>0</td>\n",
              "      <td>0</td>\n",
              "      <td>0</td>\n",
              "      <td>0</td>\n",
              "      <td>0</td>\n",
              "    </tr>\n",
              "    <tr>\n",
              "      <th>138064</th>\n",
              "      <td>e6cb3b078b8eb1a7</td>\n",
              "      <td>== Rajput == \\n\\n If you're going to unprotect...</td>\n",
              "      <td>0</td>\n",
              "      <td>0</td>\n",
              "      <td>0</td>\n",
              "      <td>0</td>\n",
              "      <td>0</td>\n",
              "      <td>0</td>\n",
              "    </tr>\n",
              "  </tbody>\n",
              "</table>\n",
              "</div>"
            ],
            "text/plain": [
              "                      id  ... identity_hate\n",
              "48876   82ad6839c662694d  ...             0\n",
              "70098   74b1778abc2c9f0b  ...             0\n",
              "72477   c1f3f92a76f424a2  ...             0\n",
              "10365   1155e98431c2cf26  ...             0\n",
              "112816  5b828e9258a3098c  ...             0\n",
              "22086   24de676691e004e3  ...             0\n",
              "147153  f5fde486a4278e16  ...             0\n",
              "146482  2cc228a2e4d67134  ...             0\n",
              "47741   4f385c51d9293855  ...             0\n",
              "138064  e6cb3b078b8eb1a7  ...             0\n",
              "\n",
              "[10 rows x 8 columns]"
            ]
          },
          "metadata": {},
          "execution_count": 3
        }
      ]
    },
    {
      "cell_type": "code",
      "metadata": {
        "id": "d60vBfauWKZy"
      },
      "source": [
        "total_data['severe_toxic'] = total_data.severe_toxic * 2\n",
        "#otal_data['obscene'] = total_data.obscene * 2\n",
        "#total_data['insult'] = total_data.obscene * 3\n",
        "#total_data['threat'] = total_data.threat * 4\n",
        "#total_data['identity_hate'] = total_data.identity_hate * 5\n",
        "total_data['y'] = (total_data[['toxic', 'severe_toxic', 'obscene', 'threat', 'insult', 'identity_hate']].sum(axis=1)).astype(int)\n",
        "#total_data['y'] = total_data['y']/total_data['y'].max()\n",
        "total_data = total_data[['comment_text', 'y']].rename(columns={'comment_text': 'text'})"
      ],
      "execution_count": 4,
      "outputs": []
    },
    {
      "cell_type": "code",
      "metadata": {
        "colab": {
          "base_uri": "https://localhost:8080/"
        },
        "id": "rtEsGKSAfY8g",
        "outputId": "760f0edc-de97-4ea3-ab9f-64ba7c5dfa78"
      },
      "source": [
        "total_data.sample(10)\n",
        "total_data['y'].value_counts()"
      ],
      "execution_count": 5,
      "outputs": [
        {
          "output_type": "execute_result",
          "data": {
            "text/plain": [
              "0    290267\n",
              "1      8202\n",
              "3      6117\n",
              "2      4969\n",
              "4      1392\n",
              "5      1274\n",
              "6       469\n",
              "7        45\n",
              "Name: y, dtype: int64"
            ]
          },
          "metadata": {},
          "execution_count": 5
        }
      ]
    },
    {
      "cell_type": "code",
      "metadata": {
        "id": "UE6wxTKgj1MC"
      },
      "source": [
        "total_data = pd.concat([total_data[total_data['y'] > 0], total_data[total_data['y'] == 0].sample(int(len(total_data[total_data['y'] > 0])*1.5))], axis = 0).sample(frac = 1)"
      ],
      "execution_count": 6,
      "outputs": []
    },
    {
      "cell_type": "code",
      "metadata": {
        "id": "SD7upFUT7eCU"
      },
      "source": [
        "def clean(data, col):  # Replace each occurrence of pattern/regex in the Series/Index\n",
        "\n",
        "    # Clean some punctutations\n",
        "    data[col] = data[col].str.replace('\\n', ' \\n ')  \n",
        "    data[col] = data[col].str.replace(r'([a-zA-Z]+)([/!?.])([a-zA-Z]+)',r'\\1 \\2 \\3')\n",
        "    # Replace repeating characters more than 3 times to length of 3\n",
        "    data[col] = data[col].str.replace(r'([*!?\\'])\\1\\1{2,}',r'\\1\\1\\1')    \n",
        "    # Add space around repeating characters\n",
        "    data[col] = data[col].str.replace(r'([*!?\\']+)',r' \\1 ')    \n",
        "    # patterns with repeating characters \n",
        "    data[col] = data[col].str.replace(r'([a-zA-Z])\\1{2,}\\b',r'\\1\\1')\n",
        "    data[col] = data[col].str.replace(r'([a-zA-Z])\\1\\1{2,}\\B',r'\\1\\1\\1')\n",
        "    data[col] = data[col].str.replace(r'[ ]{2,}',' ').str.strip()   \n",
        "    \n",
        "    return data  # the function returns the processed value"
      ],
      "execution_count": 7,
      "outputs": []
    },
    {
      "cell_type": "code",
      "metadata": {
        "id": "qjaB1lYm8LuD"
      },
      "source": [
        "total_data = clean(total_data,'text')"
      ],
      "execution_count": 8,
      "outputs": []
    },
    {
      "cell_type": "code",
      "metadata": {
        "colab": {
          "base_uri": "https://localhost:8080/",
          "height": 363
        },
        "id": "uT8MibnJ8ibz",
        "outputId": "ab7b9955-ec2c-47cc-b945-35b192153e30"
      },
      "source": [
        "total_data.sample(10)"
      ],
      "execution_count": 9,
      "outputs": [
        {
          "output_type": "execute_result",
          "data": {
            "text/html": [
              "<div>\n",
              "<style scoped>\n",
              "    .dataframe tbody tr th:only-of-type {\n",
              "        vertical-align: middle;\n",
              "    }\n",
              "\n",
              "    .dataframe tbody tr th {\n",
              "        vertical-align: top;\n",
              "    }\n",
              "\n",
              "    .dataframe thead th {\n",
              "        text-align: right;\n",
              "    }\n",
              "</style>\n",
              "<table border=\"1\" class=\"dataframe\">\n",
              "  <thead>\n",
              "    <tr style=\"text-align: right;\">\n",
              "      <th></th>\n",
              "      <th>text</th>\n",
              "      <th>y</th>\n",
              "    </tr>\n",
              "  </thead>\n",
              "  <tbody>\n",
              "    <tr>\n",
              "      <th>138330</th>\n",
              "      <td>Oh of fuck you asshole die im going to kill yo...</td>\n",
              "      <td>6</td>\n",
              "    </tr>\n",
              "    <tr>\n",
              "      <th>128393</th>\n",
              "      <td>\" \\n :::He is also engaging in what may be the...</td>\n",
              "      <td>0</td>\n",
              "    </tr>\n",
              "    <tr>\n",
              "      <th>149726</th>\n",
              "      <td>HI\\ \\n \\n \\n I WANT TO HAVE SEX WITH U \\n \\n \\...</td>\n",
              "      <td>1</td>\n",
              "    </tr>\n",
              "    <tr>\n",
              "      <th>67967</th>\n",
              "      <td>Cumulus cloud, you should respond of your disr...</td>\n",
              "      <td>0</td>\n",
              "    </tr>\n",
              "    <tr>\n",
              "      <th>32131</th>\n",
              "      <td>Welcome, Korean assh * le ' s page. \\n Why don...</td>\n",
              "      <td>1</td>\n",
              "    </tr>\n",
              "    <tr>\n",
              "      <th>129553</th>\n",
              "      <td>Cement mixer redirects here, but isn ' t liste...</td>\n",
              "      <td>0</td>\n",
              "    </tr>\n",
              "    <tr>\n",
              "      <th>313</th>\n",
              "      <td>:::::::::Moi ? Ego ? I am mortified that you c...</td>\n",
              "      <td>2</td>\n",
              "    </tr>\n",
              "    <tr>\n",
              "      <th>95960</th>\n",
              "      <td>\" \\n \\n That is not a insult. That is a realit...</td>\n",
              "      <td>1</td>\n",
              "    </tr>\n",
              "    <tr>\n",
              "      <th>142917</th>\n",
              "      <td>Stop reverting my edits \\n \\n Please stop reve...</td>\n",
              "      <td>1</td>\n",
              "    </tr>\n",
              "    <tr>\n",
              "      <th>9345</th>\n",
              "      <td>\"Obama is NOT \"\"African American\"\" you jackass...</td>\n",
              "      <td>3</td>\n",
              "    </tr>\n",
              "  </tbody>\n",
              "</table>\n",
              "</div>"
            ],
            "text/plain": [
              "                                                     text  y\n",
              "138330  Oh of fuck you asshole die im going to kill yo...  6\n",
              "128393  \" \\n :::He is also engaging in what may be the...  0\n",
              "149726  HI\\ \\n \\n \\n I WANT TO HAVE SEX WITH U \\n \\n \\...  1\n",
              "67967   Cumulus cloud, you should respond of your disr...  0\n",
              "32131   Welcome, Korean assh * le ' s page. \\n Why don...  1\n",
              "129553  Cement mixer redirects here, but isn ' t liste...  0\n",
              "313     :::::::::Moi ? Ego ? I am mortified that you c...  2\n",
              "95960   \" \\n \\n That is not a insult. That is a realit...  1\n",
              "142917  Stop reverting my edits \\n \\n Please stop reve...  1\n",
              "9345    \"Obama is NOT \"\"African American\"\" you jackass...  3"
            ]
          },
          "metadata": {},
          "execution_count": 9
        }
      ]
    },
    {
      "cell_type": "code",
      "metadata": {
        "id": "LJsnf-uHIXH1"
      },
      "source": [
        "from sklearn.feature_extraction.text import CountVectorizer\n",
        "from nltk.tokenize import RegexpTokenizer\n",
        "#tokenizer to remove unwanted elements from out data like symbols and numbers\n",
        "token = RegexpTokenizer(r'[a-zA-Z0-9]+')\n",
        "cv = CountVectorizer(lowercase=True,stop_words='english',ngram_range = (1,1),tokenizer = token.tokenize)\n",
        "text_counts= cv.fit_transform(total_data['text'])"
      ],
      "execution_count": 10,
      "outputs": []
    },
    {
      "cell_type": "code",
      "metadata": {
        "colab": {
          "base_uri": "https://localhost:8080/"
        },
        "id": "pU2JPpUXJDtN",
        "outputId": "e9ad2e41-4020-4cd8-d6b2-5d9f4f441b3c"
      },
      "source": [
        "text_counts.shape"
      ],
      "execution_count": 11,
      "outputs": [
        {
          "output_type": "execute_result",
          "data": {
            "text/plain": [
              "(56170, 95962)"
            ]
          },
          "metadata": {},
          "execution_count": 11
        }
      ]
    },
    {
      "cell_type": "code",
      "metadata": {
        "colab": {
          "base_uri": "https://localhost:8080/"
        },
        "id": "xNITuhO-J6jc",
        "outputId": "4b150a22-f3b5-45ec-a3a2-64200996d56d"
      },
      "source": [
        "from sklearn.feature_extraction.text import TfidfTransformer\n",
        "tf = TfidfTransformer()\n",
        "total_tfidf= tf.fit_transform(text_counts)\n",
        "total_tfidf.shape"
      ],
      "execution_count": 12,
      "outputs": [
        {
          "output_type": "execute_result",
          "data": {
            "text/plain": [
              "(56170, 95962)"
            ]
          },
          "metadata": {},
          "execution_count": 12
        }
      ]
    },
    {
      "cell_type": "code",
      "metadata": {
        "colab": {
          "base_uri": "https://localhost:8080/"
        },
        "id": "NJniWO42MQZT",
        "outputId": "80f072a9-a098-4d30-81bb-14ef517e5a46"
      },
      "source": [
        "from sklearn.naive_bayes import MultinomialNB\n",
        "#model = MultinomialNB()\n",
        "from sklearn.linear_model import Ridge\n",
        "model = Ridge()\n",
        "model.fit(total_tfidf, total_data['y'])"
      ],
      "execution_count": 13,
      "outputs": [
        {
          "output_type": "execute_result",
          "data": {
            "text/plain": [
              "Ridge()"
            ]
          },
          "metadata": {},
          "execution_count": 13
        }
      ]
    },
    {
      "cell_type": "code",
      "metadata": {
        "colab": {
          "base_uri": "https://localhost:8080/"
        },
        "id": "kOgo05kVqkr7",
        "outputId": "3f6063de-de47-4b27-bae4-595cfd47aa83"
      },
      "source": [
        "model.score(total_tfidf, total_data['y'])"
      ],
      "execution_count": 20,
      "outputs": [
        {
          "output_type": "execute_result",
          "data": {
            "text/plain": [
              "0.7326381541039744"
            ]
          },
          "metadata": {},
          "execution_count": 20
        }
      ]
    },
    {
      "cell_type": "code",
      "metadata": {
        "id": "dYHRmOhpnEO0"
      },
      "source": [
        "val_data = pd.read_csv(\"/validation_data.csv\")\n",
        "val_data = clean(val_data,'less_toxic')\n",
        "val_data = clean(val_data,'more_toxic')\n",
        "less_toxic = tf.transform(cv.transform(val_data['less_toxic']))\n",
        "more_toxic = tf.transform(cv.transform(val_data['more_toxic']))\n",
        "pred_less = model.predict(less_toxic)\n",
        "pred_more = model.predict(more_toxic)\n"
      ],
      "execution_count": 14,
      "outputs": []
    },
    {
      "cell_type": "code",
      "metadata": {
        "colab": {
          "base_uri": "https://localhost:8080/"
        },
        "id": "S96ozFwEpcIV",
        "outputId": "51a9c632-7332-43be-d2c9-b2921cfb4e0c"
      },
      "source": [
        "(pred_more > pred_less).mean()"
      ],
      "execution_count": 15,
      "outputs": [
        {
          "output_type": "execute_result",
          "data": {
            "text/plain": [
              "0.678158628935831"
            ]
          },
          "metadata": {},
          "execution_count": 15
        }
      ]
    },
    {
      "cell_type": "code",
      "metadata": {
        "colab": {
          "base_uri": "https://localhost:8080/",
          "height": 363
        },
        "id": "zNOSN-BbNEVM",
        "outputId": "8fc5a7f7-4fbc-446c-b834-7b51f0052e52"
      },
      "source": [
        "final_data = pd.read_csv(\"/comments_to_score.csv\")\n",
        "final_data.sample(10)\n"
      ],
      "execution_count": 16,
      "outputs": [
        {
          "output_type": "execute_result",
          "data": {
            "text/html": [
              "<div>\n",
              "<style scoped>\n",
              "    .dataframe tbody tr th:only-of-type {\n",
              "        vertical-align: middle;\n",
              "    }\n",
              "\n",
              "    .dataframe tbody tr th {\n",
              "        vertical-align: top;\n",
              "    }\n",
              "\n",
              "    .dataframe thead th {\n",
              "        text-align: right;\n",
              "    }\n",
              "</style>\n",
              "<table border=\"1\" class=\"dataframe\">\n",
              "  <thead>\n",
              "    <tr style=\"text-align: right;\">\n",
              "      <th></th>\n",
              "      <th>comment_id</th>\n",
              "      <th>text</th>\n",
              "    </tr>\n",
              "  </thead>\n",
              "  <tbody>\n",
              "    <tr>\n",
              "      <th>4548</th>\n",
              "      <td>255830882</td>\n",
              "      <td>DUDE&lt; I DO IT BECAUSE YOUR MUM SCREAMS TOOOOO ...</td>\n",
              "    </tr>\n",
              "    <tr>\n",
              "      <th>2598</th>\n",
              "      <td>142194577</td>\n",
              "      <td>well you can suck my balls gay fuck. Wikipedia...</td>\n",
              "    </tr>\n",
              "    <tr>\n",
              "      <th>434</th>\n",
              "      <td>33481190</td>\n",
              "      <td>\"\\nBan one side of an argument by a bullshit n...</td>\n",
              "    </tr>\n",
              "    <tr>\n",
              "      <th>7084</th>\n",
              "      <td>459258858</td>\n",
              "      <td>\"\\nHow can I know? His name is \"\"Ramanatruth\"\"...</td>\n",
              "    </tr>\n",
              "    <tr>\n",
              "      <th>5840</th>\n",
              "      <td>345862997</td>\n",
              "      <td>It's aganist any logic to try to separate the ...</td>\n",
              "    </tr>\n",
              "    <tr>\n",
              "      <th>235</th>\n",
              "      <td>22448624</td>\n",
              "      <td>\"puh-leez, Coulter herself said she was wrong ...</td>\n",
              "    </tr>\n",
              "    <tr>\n",
              "      <th>6101</th>\n",
              "      <td>367593084</td>\n",
              "      <td>block user:sco1996\\nDear Syrthiss.\\nsco1996 is...</td>\n",
              "    </tr>\n",
              "    <tr>\n",
              "      <th>5829</th>\n",
              "      <td>344828605</td>\n",
              "      <td>u think i get impressed by some f@ck!ng swedi...</td>\n",
              "    </tr>\n",
              "    <tr>\n",
              "      <th>5791</th>\n",
              "      <td>342418929</td>\n",
              "      <td>\"Because Peter Symonds is just as big an idiot...</td>\n",
              "    </tr>\n",
              "    <tr>\n",
              "      <th>1127</th>\n",
              "      <td>62118800</td>\n",
              "      <td>kindness\\n\\nWow, your compassion sure disapper...</td>\n",
              "    </tr>\n",
              "  </tbody>\n",
              "</table>\n",
              "</div>"
            ],
            "text/plain": [
              "      comment_id                                               text\n",
              "4548   255830882  DUDE< I DO IT BECAUSE YOUR MUM SCREAMS TOOOOO ...\n",
              "2598   142194577  well you can suck my balls gay fuck. Wikipedia...\n",
              "434     33481190  \"\\nBan one side of an argument by a bullshit n...\n",
              "7084   459258858  \"\\nHow can I know? His name is \"\"Ramanatruth\"\"...\n",
              "5840   345862997  It's aganist any logic to try to separate the ...\n",
              "235     22448624  \"puh-leez, Coulter herself said she was wrong ...\n",
              "6101   367593084  block user:sco1996\\nDear Syrthiss.\\nsco1996 is...\n",
              "5829   344828605   u think i get impressed by some f@ck!ng swedi...\n",
              "5791   342418929  \"Because Peter Symonds is just as big an idiot...\n",
              "1127    62118800  kindness\\n\\nWow, your compassion sure disapper..."
            ]
          },
          "metadata": {},
          "execution_count": 16
        }
      ]
    },
    {
      "cell_type": "code",
      "metadata": {
        "colab": {
          "base_uri": "https://localhost:8080/"
        },
        "id": "zqbIY6JzOq17",
        "outputId": "e5397e4d-83f9-4e86-97d5-2d3b236e7eab"
      },
      "source": [
        "final_data = clean(final_data,'text')\n",
        "#final_token = RegexpTokenizer(r'[a-zA-Z0-9]+')\n",
        "#cv_final = CountVectorizer(lowercase=True,stop_words='english',ngram_range = (1,1),tokenizer = final_token.tokenize)\n",
        "text_countsfinal= cv.transform(final_data['text'])\n",
        "text_countsfinal.shape\n",
        "#tf_final = TfidfTransformer()\n",
        "#final_tfidf= tf.transform(text_countsfinal)\n"
      ],
      "execution_count": 17,
      "outputs": [
        {
          "output_type": "execute_result",
          "data": {
            "text/plain": [
              "(7537, 95962)"
            ]
          },
          "metadata": {},
          "execution_count": 17
        }
      ]
    },
    {
      "cell_type": "code",
      "metadata": {
        "colab": {
          "base_uri": "https://localhost:8080/"
        },
        "id": "4Rxpxn9TThHL",
        "outputId": "c28aedd4-e03a-4e53-a073-036f7a93b9d0"
      },
      "source": [
        "final_tfidf= tf.transform(text_countsfinal)\n",
        "final_tfidf.shape\n",
        "preds = model.predict(final_tfidf)\n",
        "print(type(preds))"
      ],
      "execution_count": 18,
      "outputs": [
        {
          "output_type": "stream",
          "name": "stdout",
          "text": [
            "<class 'numpy.ndarray'>\n"
          ]
        }
      ]
    },
    {
      "cell_type": "code",
      "metadata": {
        "id": "doUKa6n3Pmuz"
      },
      "source": [
        "#preds = model.predict(final_tfidf)\n",
        "final_data['score'] =  preds\n",
        "final_data[['comment_id', 'score']].to_csv(\"submission.csv\", index=False)"
      ],
      "execution_count": 19,
      "outputs": []
    }
  ]
}